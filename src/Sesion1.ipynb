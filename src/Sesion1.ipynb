{
 "cells": [
  {
   "cell_type": "markdown",
   "id": "495d3caf",
   "metadata": {},
   "source": [
    "<img src=\"imgs/LCG-UNAM.png\">\n",
    "\n",
    "# PythonII: Programación Aplicada a la Bioinformática\n",
    "\n",
    "# Introducción a librerías y POO\n",
    "\n",
    "## Contenido de la unidad\n",
    "\n",
    "\n",
    "  1. Introducción a las librerias\n",
    "    - [Bioprojects](#Bioproject)\n",
    "    - [Biopython](#6)\n",
    "    - [NumPy](#8)\n",
    "    - [Pandas](#9)\n",
    "    - [Matplotlib](#10)\n",
    "    - [Seaborn](#11)\n",
    "  2. Introducción a POO\n",
    "\n",
    "## Objetivo\n",
    "\n",
    "\n",
    "Conocer las librerías más importantes para proyectos de bioinformática de python -y en las que profundizaremos a lo largo del curso.\n",
    "\n",
    "Revisaremos los conceptos mas importantes de la programación orientada a Objetos\n",
    "\n",
    "\n",
    "\n",
    "## Introducción\n",
    "\n",
    "Con el inicio de la bioinformática surgió la necesidad de crear programas computacionales para el manejo y análisis de grandes volúmenes de datos.\n",
    "\n",
    "La comunidad internacional de cientificos de datos que trabajan con python han logrado consolidar distintas librerías para trabajar con diversidad de problemas y con distintos enfoques.\n",
    "\n",
    "<div id=\"Bioproject\"> </div>\n",
    "## Bioprojects\n",
    "\n",
    "\n",
    "<img src=\"imgs/bioprojects.jpg\">\n",
    "\n",
    "## Biopython\n",
    "\n",
    "<img src=\"imgs/biopython.png\">\n",
    "\n",
    "\n",
    "- Es un conjunto de herramientas de libre acceso para aplicaciones bioinformáticas desarrolladas por una comunidad internacional.\n",
    "\n",
    "- Mayor accesibilidad para  biólogxs.\n",
    "\n",
    "- Inicio del Proyecto 1999.\n",
    "\n",
    "- Última versión 15 Enero 2025 (Biopython 1.85)\n",
    "\n",
    "- Requiere de NumPy\n",
    "\n",
    "- Es de codigo abierto bajo una licencia [biopython](https://github.com/biopython/biopython/blob/master/LICENSE.rst)\n",
    "\n",
    "- Forma parte de Open Bioinformatic Fundation[OBF](https://www.open-bio.org)\n",
    "\n",
    "\n",
    "\n",
    "### Módulos de Biopython\n",
    "\n",
    "<img src=\"imgs/biopython-modules.jpg\">\n",
    "\n",
    "\n",
    "## NumPy\n",
    "#### (Numerical Python)\n",
    "<img src=\"imgs/numpy.png\">\n",
    "\n",
    "\n",
    "- Computo orientado a `arrays`\n",
    "\n",
    "- Arrays multidimensionales\n",
    "\n",
    "- Vectorización y *Broadcasting*\n",
    "\n",
    "- Usual para manejo de números imaginarios \n",
    "\n",
    "\n",
    "\n",
    "## Pandas\n",
    "#### (Panel Dataframe Series)\n",
    "\n",
    "<img scr=\"imgs/PandasLogo.png\">\n",
    "\n",
    "\n",
    "Estructuras de almacenamiento rápidas y eficientes para manipular datos con indexing integrado\n",
    "\n",
    "Herramientas, métodos y funcionalidades para estructura de datos \n",
    "\n",
    "## Matplotlib\n",
    "\n",
    "- Emplea `Pyplot`, lo que da interfaz similar a MATLAB\n",
    "\n",
    "- Conectado a `NumPy` y `Pandas`\n",
    "\n",
    "- Exploración de análisis de datos y plots para publicaciones\n",
    "\n",
    "- Problemas con datasets grandes, visualización interactiva para web y *graphical user interfaces*\n",
    "\n",
    "- [¡Explora la galería de ejemplos!](https://matplotlib.org/stable/gallery/index.html)\n",
    "\n",
    "\n",
    "<img src=\"imgs/matplotlib.png\">\n",
    "\n",
    "<img src=\"imgs/matplotlib2.jpg\">\n",
    "\n",
    "## Seaborn\n",
    "\n",
    "<img src=\"imgs/seaborn.jpg\">\n",
    "\n",
    "- Librería para hacer gráficas estadísticas en Python\n",
    "- Construída en `matplotlib` (Seaborn: versión extendida, más funcional y organizada), integra estructuras de datos de `pandas` y `NumPy`\n",
    "- Requiere: NumPy, SciPy, Pandas, Matplotlib\n",
    "\n",
    "<img src=\"imgs/seaborn2.jpg\">\n",
    "\n",
    "\n",
    "[¡Explora la galería de ejemplos!](https://seaborn.pydata.org/examples/index.html)\n",
    "\n",
    "\n",
    "# Programación Orientada a Objetos\n",
    "\n",
    "¿Que es la programación Orientada a objetos?\n",
    "\n",
    "*Programación Orientada a Objetos* ó POO\n",
    "\n",
    "*Object Oriented Programming* o OOP\n",
    "\n",
    "*Professional Object Oriented Programmer* o POOP\n",
    "\n",
    "<img src=\"imgs/ConceptPOO.png\">\n",
    "\n",
    "## Clases\n",
    "\n",
    "Una clases es la definición de un cojunto de objetos,  sus propiedades (o atributos) y sus funciones (ó métodos). Es la definición de  una plantilla para generar objetos.\n",
    "\n",
    "### Definamos la clase Silla\n",
    "\n",
    "¿Que carateristicas tiene? Definición de atributos (son siempre sustantivos)\n",
    "\n",
    "¿Que funciones tiene? Definición de comportamiento (son siempre verbos - acciones -)\n",
    "\n",
    "<img src=\"imgs/Sillas1.png\">\n",
    "\n",
    "\n",
    "<img src=\"imgs/Sillas2.png\">\n",
    "\n",
    "\n",
    "<img src=\"imgs/Banco1.png\">\n",
    "\n",
    "\n",
    "<img src=\"imgs/Sillones.png\">\n",
    "\n",
    "## Objetos\n",
    "\n",
    "Un objeto es una instancia o miembro de una clase.\n",
    "\n",
    "Instancia  o miembro de una clase. \n",
    "\n",
    "\n",
    "<img src=\"imgs/ej_clase_objeto.png\">\n",
    "\n",
    "\n",
    "<img src =\"imgs/ej_clase_objeto2.png\">\n",
    "\n",
    "\n",
    "### Ejercicio 1:\n",
    "\n",
    "Tenemos varios animales, y queremos representarlos en el código. ¿como definen la clase?¿Cuáles serían los objetos?\n",
    "\n",
    "<img src=\"imgs/pregunta1.png\">\n",
    "\n",
    "\n",
    "<img src=\"imgs/mamifero.png\">\n",
    "\n",
    "\n",
    "# 3. Definimos una clase y sus atributos en python\n",
    "\n",
    "Utilicemos la palabra reservada class para definir una clase\n",
    "\n",
    "```{python}\n",
    "class mamifero(): \n",
    "    # Atributos de clase\n",
    "\n",
    "```\n",
    "\n",
    "Agreguemos atributos\n",
    "```{python, eval=F, echo = T}\n",
    "class mamifero(): \n",
    "    # Atributos de clase\n",
    "    vertebrado : True\n",
    "    amamanta : True\n",
    "        \n",
    "```\n",
    "¿Que otros atributos? \n",
    "\n"
   ]
  },
  {
   "cell_type": "markdown",
   "id": "e68d022a",
   "metadata": {
    "vscode": {
     "languageId": "plaintext"
    }
   },
   "source": [
    "#Utilicemos la palabra reservada class para definir una clase\n",
    "\n",
    "\n",
    "class mamifero(): \n"
   ]
  },
  {
   "cell_type": "code",
   "execution_count": 3,
   "id": "335af9b8",
   "metadata": {},
   "outputs": [],
   "source": [
    "class mamifero(): \n",
    "    # Atributos de clase\n",
    "    vertebrado = True\n",
    "    amamanta = True\n",
    "        \n",
    "    # Atributos de instancia\n",
    "    alimentacion:  '' # Carnivoro, omnívoro, etc\n",
    "    altura: None\n",
    "    peso: None\n",
    "    progenie: 0\n"
   ]
  },
  {
   "cell_type": "markdown",
   "id": "126d4ae0",
   "metadata": {},
   "source": [
    "Los atributos de clase tiene valores inherentes a todos los objetos de clase y generalmente tienen un valor predefinido. \n",
    "\n",
    "Los atributos en la instancia tienes un valor específico para cada objeto o instancia generada para la clase. \n",
    "\n",
    "Creemos una instancia de la clase mamifero:"
   ]
  },
  {
   "cell_type": "code",
   "execution_count": 6,
   "id": "814db936",
   "metadata": {},
   "outputs": [
    {
     "data": {
      "text/plain": [
       "True"
      ]
     },
     "execution_count": 6,
     "metadata": {},
     "output_type": "execute_result"
    }
   ],
   "source": [
    "perro = mamifero()\n",
    "perro.vertebrado"
   ]
  },
  {
   "cell_type": "code",
   "execution_count": 5,
   "id": "d5235265",
   "metadata": {},
   "outputs": [
    {
     "name": "stdout",
     "output_type": "stream",
     "text": [
      "El tipo de alimentación de nuestro perro es:  omnivoro mide 43 pesa 6.1 su descendencia asciende a 0\n"
     ]
    }
   ],
   "source": [
    "#Demosle valores a nuestro objeto perro:\n",
    "perro.alimentacion = 'omnivoro'\n",
    "perro.altura = 43\n",
    "perro.peso = 6.1\n",
    "perro.progenie=0\n",
    "print(\"El tipo de alimentación de nuestro perro es: \", perro.alimentacion, \"mide\",perro.altura,\"pesa\",perro.peso, \"su descendencia asciende a\",perro.progenie)"
   ]
  },
  {
   "cell_type": "markdown",
   "id": "b2fbda89",
   "metadata": {},
   "source": [
    "Agregemos métodos a nuestra clase mamifero:"
   ]
  },
  {
   "cell_type": "code",
   "execution_count": 8,
   "id": "fb015660",
   "metadata": {},
   "outputs": [
    {
     "name": "stdout",
     "output_type": "stream",
     "text": [
      "El tipo de alimentación de nuestro perro es:   mide 0 pesa 0 su descendencia asciende a 1\n"
     ]
    }
   ],
   "source": [
    "from random import choice, seed\n",
    "\n",
    "class mamifero(): \n",
    "    # Atributos de clase\n",
    "    vertebrado = True\n",
    "    amamanta = True\n",
    "        \n",
    "    # Atributos de instancia\n",
    "    alimentacion= '' # Carnivoro, omnívoro, etc\n",
    "    altura=0\n",
    "    peso=0\n",
    "    progenie= 0\n",
    "    # Cuántos puede tener y cuántos van a sobrevivir    \n",
    "    def reproducirse(self, max_progenie):\n",
    "        self.progenie +=  choice(range( max_progenie))\n",
    "    \n",
    "    def crecer(self, crecimiento):\n",
    "        self.altura += crecimiento\n",
    "        self.peso += crecimiento * 0.4\n",
    "\n",
    "#Y provemos nuestros metódos:\n",
    "perro=mamifero()\n",
    "perro.reproducirse(6)\n",
    "print(\"El tipo de alimentación de nuestro perro es: \", perro.alimentacion, \"mide\",perro.altura,\"pesa\",perro.peso, \"su descendencia asciende a\",perro.progenie)"
   ]
  },
  {
   "cell_type": "markdown",
   "id": "0160c6d5",
   "metadata": {},
   "source": [
    "## Agregando un constructor\n",
    "\n",
    "Existe un método muy importante en cualquier clase llamado constructor.  La función constructor permite definir los valores con los que es creado un objeto.\n",
    "\n",
    "El método __init__() también se llama «constructor». Es llamado por Python cada vez que instanciamos un objeto.\n",
    "\n",
    "El constructor crea el estado inicial del objeto con el conjunto mínimo de parámetros que necesita para existir.\n",
    "\n",
    "self es una autoreferencia al objeto en turno."
   ]
  },
  {
   "cell_type": "code",
   "execution_count": 11,
   "id": "b6ce9449",
   "metadata": {},
   "outputs": [
    {
     "name": "stdout",
     "output_type": "stream",
     "text": [
      "El tipo de alimentación de nuestro perro es:  omnívoro , mide 43 cms, pesa 6.1 kg y su descendencia asciende a 5\n"
     ]
    }
   ],
   "source": [
    "class mamifero(): \n",
    "    # Atributos de clase\n",
    "    vertebrado = True\n",
    "    amamanta = True\n",
    "\n",
    "\n",
    "    def __init__(self, alimentacion, altura, peso, progenie=0):\n",
    "        # Atributos de instancia\n",
    "        self.alimentacion = alimentacion   # carnívoro, omnívoro, etc.\n",
    "        self.altura = altura #cm\n",
    "        self.peso = peso #kg\n",
    "        self.progenie = progenie \n",
    "\n",
    "    # Cuántos puede tener y cuántos van a sobrevivir    \n",
    "    def reproducirse(self, max_progenie):\n",
    "        self.progenie +=  choice(range( max_progenie))\n",
    "    \n",
    "    def crecer(self, crecimiento):\n",
    "        self.altura += crecimiento\n",
    "        self.peso += crecimiento * 0.4\n",
    "\n",
    "#Y provemos nuestros metódos:\n",
    "perro=mamifero(\"omnívoro\", 43, 6.1)\n",
    "perro.reproducirse(6)\n",
    "print(\"El tipo de alimentación de nuestro perro es: \", perro.alimentacion, \", mide\",\\\n",
    "      perro.altura,\"cms, pesa\",perro.peso, \"kg y su descendencia asciende a\",perro.progenie)"
   ]
  },
  {
   "cell_type": "markdown",
   "id": "baf1dc95",
   "metadata": {},
   "source": [
    "### Ejercicio 2:\n",
    "\n",
    "Genere la clase gen con al menos 3 atributos, y 3 métodos (contando el constructor)"
   ]
  },
  {
   "cell_type": "markdown",
   "id": "7e1c0310",
   "metadata": {},
   "source": [
    "# Herencia \n",
    "\n",
    "La programación orientada a objetos nos permite crear clases que pueden heredar propiedades, métodos y comportamientos de otras clases ya existentes. En Python, la herencia es una característica clave que nos permite crear clases hijas a partir de una clase padre.\n",
    "\n",
    "La herencia en Python se logra por medio de una sintaxis sencilla que involucra la creación de una nueva clase que hereda atributos y métodos de la clase padre. Para crear una clase hija en Python, simplemente agregamos el nombre de la clase padre en paréntesis después del nombre de la clase hija.\n",
    "\n",
    "<img src=\"imgs/Herencia.png\">\n",
    "\n",
    "La clase **de la que estamos heredando** se suele denominar clase base, clase padre, *superclase*, etc. La clase que recibe la **herencia** es la *subclase*.\n",
    "\n",
    "Regresemos a nuestra clase de mamiferos, los mamíferos tienen subcategorías\n",
    "\n",
    "<img src=\"imgs/car_clases_mamifero.png\">\n",
    "\n",
    "<img src=\"imgs/objetos_mamiferos.png\">\n"
   ]
  },
  {
   "cell_type": "code",
   "execution_count": 15,
   "id": "7829a751",
   "metadata": {},
   "outputs": [
    {
     "name": "stdout",
     "output_type": "stream",
     "text": [
      "El tipo de alimentación de echidna es:  carnívoro , mide 50 cms, pesa 6 kg y su descendencia asciende a 0\n",
      "Despues de crecer 10 cm, mide 60 cms, pesa 10.0 kg\n",
      "Despues de poner 5 huevos, su progenie es 0\n"
     ]
    }
   ],
   "source": [
    "#Si también necesitáramos una clase `monotrema` (mamíferos que ponen huevos), podemos crear esta nueva clase **heredando** los atributos y métodos de la clase `mamifero`, la cual se convertiría en una *super*clase.\n",
    "\n",
    "class monotrema(mamifero):\n",
    "    espolon = True\n",
    "    \n",
    "    def poner_huevo(self, max_huevos):\n",
    "        huevos = 0\n",
    "        \n",
    "        # Cuántos de esos huevos eclosionan\n",
    "        for n in range(max_huevos):\n",
    "            if choice([True, False]):\n",
    "                huevos += 1\n",
    "                \n",
    "        if huevos>0:\n",
    "            self.reproducirse(huevos)\n",
    "\n",
    "echidna = monotrema(\"carnívoro\", 50, 6)\n",
    "print(\"El tipo de alimentación de echidna es: \", echidna.alimentacion, \", mide\",\\\n",
    "      echidna.altura,\"cms, pesa\",echidna.peso, \"kg y su descendencia asciende a\",echidna.progenie)\n",
    "echidna.crecer(10)\n",
    "print(\"Despues de crecer 10 cm, mide\",echidna.altura,\"cms, pesa\",echidna.peso, \"kg\")\n",
    "echidna.poner_huevo(5)\n",
    "print(\"Despues de poner 5 huevos, su progenie es\",echidna.progenie )\n"
   ]
  },
  {
   "cell_type": "markdown",
   "id": "b3d66fa8",
   "metadata": {},
   "source": [
    "### Ejercicio 3:\n",
    "\n",
    "Usando el concepto de Herencia  una subclase de la clase gen, llamada tRNA, y otra clase llamada RNA no codificante.  Luego deriva de tRNA otra subclase llamada proteina. \n",
    "\n",
    "# Polimorfismo\n",
    "\n",
    "El polimorfismo, por otro lado, es una característica que nos permite utilizar objetos de diferentes clases de manera intercambiable. Esto significa que el mismo método o función puede ser utilizado en diferentes tipos de objetos, sin preocuparnos por conocer los detalles exactos de cada uno de ellos. En Python, el polimorfismo está estrechamente relacionado con la herencia y la superposición de métodos.\n",
    "\n",
    "La superposición de métodos es una técnica que nos permite modificar el comportamiento de los métodos heredados de la clase padre en la clase hija. Esto se logra al definir un método con el mismo nombre en la clase hija como en la clase padre. Cuando se llama al método en la clase hija, el intérprete de Python buscará la definición del método en la clase hija primero y, si no la encuentra, lo buscará en la clase padre.\n",
    "\n",
    "#### Overriding\n",
    "\n",
    "\n",
    "\n",
    "Overriding (podemos verlo como **sobreescribir o anular**) es una característica que permite que una subclase implemente a su manera un método que heredó de una superclase.\n",
    "\n",
    "Es un tipo especifico de polomorfismo. \n",
    "\n",
    "<img src=\"imgs/ej_overriding.png\">\n",
    "\n",
    "# Overriding\n",
    "\n",
    "Si ahora queremos una clase de mamíferos `placentarios` y queremos guardar la información de si son acuáticos y además si crecen aumentan más su peso."
   ]
  },
  {
   "cell_type": "code",
   "execution_count": 16,
   "id": "c3a88cbf",
   "metadata": {},
   "outputs": [
    {
     "data": {
      "text/plain": [
       "{'alimentacion': 'carnívoro',\n",
       " 'altura': 200,\n",
       " 'peso': 41000,\n",
       " 'progenie': 0,\n",
       " 'acuatico': True}"
      ]
     },
     "execution_count": 16,
     "metadata": {},
     "output_type": "execute_result"
    }
   ],
   "source": [
    "from random import choice, seed\n",
    "class placentario(mamifero):\n",
    "\n",
    "    def __init__(self, alimentacion, altura, peso, acuatico, progenie=0):\n",
    "        mamifero.__init__(self,alimentacion, altura, peso, progenie=0)\n",
    "        self.acuatico = acuatico\n",
    "                         \n",
    "    def crecer(self, crecimiento):\n",
    "        self.altura += crecimiento\n",
    "        self.peso += crecimiento * 2\n",
    "\n",
    "cachalote = placentario('carnívoro', 200, 41*10**3, True )\n",
    "cachalote.__dict__"
   ]
  },
  {
   "cell_type": "code",
   "execution_count": 17,
   "id": "86f29922",
   "metadata": {},
   "outputs": [
    {
     "data": {
      "text/plain": [
       "(41020, 8.2)"
      ]
     },
     "execution_count": 17,
     "metadata": {},
     "output_type": "execute_result"
    }
   ],
   "source": [
    "# Polimorfismos\n",
    "\n",
    "#Tenemos una nueva clase marsupial, que igual crece y cambia su peso de manera distinta. Podemos \n",
    "# usar ambos métodos sin problema\n",
    "\n",
    "\n",
    "from random import choice, seed\n",
    "class marsupial(mamifero):\n",
    "                         \n",
    "    def crecer(self, crecimiento):\n",
    "        self.altura += crecimiento\n",
    "        self.peso += crecimiento * 0.7\n",
    "\n",
    "cachalote = placentario('carnívoro', 200, 41*10**3, True )\n",
    "tlacuache = marsupial('omnívoro', 30, 1.2)\n",
    "\n",
    "for mamiferito in [cachalote, tlacuache]:\n",
    "  mamiferito.crecer(10)\n",
    "\n",
    "cachalote.peso, tlacuache.peso"
   ]
  },
  {
   "cell_type": "markdown",
   "id": "988ac0c8",
   "metadata": {},
   "source": [
    "### Ejercicio 4:\n",
    "\n",
    "Genera una función longitud para la clase tRNA y una función longitud para la clase proteina.  La primera regresa el numero de nuclotidos, la segunda, el número de nucleotidos y de aminoacidos"
   ]
  },
  {
   "cell_type": "markdown",
   "id": "50ff1e33",
   "metadata": {},
   "source": [
    "## Bibliografía\n",
    "\n",
    "1. http://biopython.org/DIST/docs/tutorial/Tutorial.html\n",
    "\n",
    "2. https://numpy.org/doc/stable/user/whatisnumpy.html\n",
    "\n",
    "3. https://pandas.pydata.org/about/index.html\n",
    "\n",
    "4. https://matplotlib.org/stable/users/index.html \n",
    "\n",
    "5. https://seaborn.pydata.org/introduction.html\n",
    "\n",
    "\n"
   ]
  }
 ],
 "metadata": {
  "kernelspec": {
   "display_name": "Python 3",
   "language": "python",
   "name": "python3"
  },
  "language_info": {
   "codemirror_mode": {
    "name": "ipython",
    "version": 3
   },
   "file_extension": ".py",
   "mimetype": "text/x-python",
   "name": "python",
   "nbconvert_exporter": "python",
   "pygments_lexer": "ipython3",
   "version": "3.7.6"
  }
 },
 "nbformat": 4,
 "nbformat_minor": 5
}
